{
 "cells": [
  {
   "cell_type": "code",
   "execution_count": 2,
   "metadata": {},
   "outputs": [],
   "source": [
    "import pandas as pd"
   ]
  },
  {
   "cell_type": "code",
   "execution_count": 3,
   "metadata": {},
   "outputs": [],
   "source": [
    "X = pd.read_csv(\"HousePrices.csv\")"
   ]
  },
  {
   "cell_type": "code",
   "execution_count": 4,
   "metadata": {},
   "outputs": [
    {
     "data": {
      "text/html": [
       "<div>\n",
       "<style scoped>\n",
       "    .dataframe tbody tr th:only-of-type {\n",
       "        vertical-align: middle;\n",
       "    }\n",
       "\n",
       "    .dataframe tbody tr th {\n",
       "        vertical-align: top;\n",
       "    }\n",
       "\n",
       "    .dataframe thead th {\n",
       "        text-align: right;\n",
       "    }\n",
       "</style>\n",
       "<table border=\"1\" class=\"dataframe\">\n",
       "  <thead>\n",
       "    <tr style=\"text-align: right;\">\n",
       "      <th></th>\n",
       "      <th>Id</th>\n",
       "      <th>Dwell_Type</th>\n",
       "      <th>Zone_Class</th>\n",
       "      <th>LotFrontage</th>\n",
       "      <th>LotArea</th>\n",
       "      <th>Road_Type</th>\n",
       "      <th>Alley</th>\n",
       "      <th>Property_Shape</th>\n",
       "      <th>LandContour</th>\n",
       "      <th>Utilities</th>\n",
       "      <th>...</th>\n",
       "      <th>PoolArea</th>\n",
       "      <th>PoolQC</th>\n",
       "      <th>Fence</th>\n",
       "      <th>MiscFeature</th>\n",
       "      <th>MiscVal</th>\n",
       "      <th>MoSold</th>\n",
       "      <th>YrSold</th>\n",
       "      <th>SaleType</th>\n",
       "      <th>SaleCondition</th>\n",
       "      <th>Property_Sale_Price</th>\n",
       "    </tr>\n",
       "  </thead>\n",
       "  <tbody>\n",
       "    <tr>\n",
       "      <th>0</th>\n",
       "      <td>1</td>\n",
       "      <td>60</td>\n",
       "      <td>RL</td>\n",
       "      <td>65.0</td>\n",
       "      <td>8450</td>\n",
       "      <td>Pave</td>\n",
       "      <td>NaN</td>\n",
       "      <td>Reg</td>\n",
       "      <td>Lvl</td>\n",
       "      <td>AllPub</td>\n",
       "      <td>...</td>\n",
       "      <td>0</td>\n",
       "      <td>NaN</td>\n",
       "      <td>NaN</td>\n",
       "      <td>NaN</td>\n",
       "      <td>0</td>\n",
       "      <td>2</td>\n",
       "      <td>2008</td>\n",
       "      <td>WD</td>\n",
       "      <td>Normal</td>\n",
       "      <td>208500</td>\n",
       "    </tr>\n",
       "    <tr>\n",
       "      <th>1</th>\n",
       "      <td>2</td>\n",
       "      <td>20</td>\n",
       "      <td>RL</td>\n",
       "      <td>80.0</td>\n",
       "      <td>9600</td>\n",
       "      <td>Pave</td>\n",
       "      <td>NaN</td>\n",
       "      <td>Reg</td>\n",
       "      <td>Lvl</td>\n",
       "      <td>AllPub</td>\n",
       "      <td>...</td>\n",
       "      <td>0</td>\n",
       "      <td>NaN</td>\n",
       "      <td>NaN</td>\n",
       "      <td>NaN</td>\n",
       "      <td>0</td>\n",
       "      <td>5</td>\n",
       "      <td>2007</td>\n",
       "      <td>WD</td>\n",
       "      <td>Normal</td>\n",
       "      <td>181500</td>\n",
       "    </tr>\n",
       "    <tr>\n",
       "      <th>2</th>\n",
       "      <td>3</td>\n",
       "      <td>60</td>\n",
       "      <td>RL</td>\n",
       "      <td>68.0</td>\n",
       "      <td>11250</td>\n",
       "      <td>Pave</td>\n",
       "      <td>NaN</td>\n",
       "      <td>IR1</td>\n",
       "      <td>Lvl</td>\n",
       "      <td>AllPub</td>\n",
       "      <td>...</td>\n",
       "      <td>0</td>\n",
       "      <td>NaN</td>\n",
       "      <td>NaN</td>\n",
       "      <td>NaN</td>\n",
       "      <td>0</td>\n",
       "      <td>9</td>\n",
       "      <td>2008</td>\n",
       "      <td>WD</td>\n",
       "      <td>Normal</td>\n",
       "      <td>223500</td>\n",
       "    </tr>\n",
       "    <tr>\n",
       "      <th>3</th>\n",
       "      <td>4</td>\n",
       "      <td>70</td>\n",
       "      <td>RL</td>\n",
       "      <td>60.0</td>\n",
       "      <td>9550</td>\n",
       "      <td>Pave</td>\n",
       "      <td>NaN</td>\n",
       "      <td>IR1</td>\n",
       "      <td>Lvl</td>\n",
       "      <td>AllPub</td>\n",
       "      <td>...</td>\n",
       "      <td>0</td>\n",
       "      <td>NaN</td>\n",
       "      <td>NaN</td>\n",
       "      <td>NaN</td>\n",
       "      <td>0</td>\n",
       "      <td>2</td>\n",
       "      <td>2006</td>\n",
       "      <td>WD</td>\n",
       "      <td>Abnorml</td>\n",
       "      <td>140000</td>\n",
       "    </tr>\n",
       "    <tr>\n",
       "      <th>4</th>\n",
       "      <td>5</td>\n",
       "      <td>60</td>\n",
       "      <td>RL</td>\n",
       "      <td>84.0</td>\n",
       "      <td>14260</td>\n",
       "      <td>Pave</td>\n",
       "      <td>NaN</td>\n",
       "      <td>IR1</td>\n",
       "      <td>Lvl</td>\n",
       "      <td>AllPub</td>\n",
       "      <td>...</td>\n",
       "      <td>0</td>\n",
       "      <td>NaN</td>\n",
       "      <td>NaN</td>\n",
       "      <td>NaN</td>\n",
       "      <td>0</td>\n",
       "      <td>12</td>\n",
       "      <td>2008</td>\n",
       "      <td>WD</td>\n",
       "      <td>Normal</td>\n",
       "      <td>250000</td>\n",
       "    </tr>\n",
       "    <tr>\n",
       "      <th>...</th>\n",
       "      <td>...</td>\n",
       "      <td>...</td>\n",
       "      <td>...</td>\n",
       "      <td>...</td>\n",
       "      <td>...</td>\n",
       "      <td>...</td>\n",
       "      <td>...</td>\n",
       "      <td>...</td>\n",
       "      <td>...</td>\n",
       "      <td>...</td>\n",
       "      <td>...</td>\n",
       "      <td>...</td>\n",
       "      <td>...</td>\n",
       "      <td>...</td>\n",
       "      <td>...</td>\n",
       "      <td>...</td>\n",
       "      <td>...</td>\n",
       "      <td>...</td>\n",
       "      <td>...</td>\n",
       "      <td>...</td>\n",
       "      <td>...</td>\n",
       "    </tr>\n",
       "    <tr>\n",
       "      <th>2068</th>\n",
       "      <td>942</td>\n",
       "      <td>60</td>\n",
       "      <td>RL</td>\n",
       "      <td>NaN</td>\n",
       "      <td>8755</td>\n",
       "      <td>Pave</td>\n",
       "      <td>NaN</td>\n",
       "      <td>IR1</td>\n",
       "      <td>Lvl</td>\n",
       "      <td>AllPub</td>\n",
       "      <td>...</td>\n",
       "      <td>0</td>\n",
       "      <td>NaN</td>\n",
       "      <td>GdPrv</td>\n",
       "      <td>NaN</td>\n",
       "      <td>0</td>\n",
       "      <td>6</td>\n",
       "      <td>2009</td>\n",
       "      <td>WD</td>\n",
       "      <td>Normal</td>\n",
       "      <td>214000</td>\n",
       "    </tr>\n",
       "    <tr>\n",
       "      <th>2069</th>\n",
       "      <td>943</td>\n",
       "      <td>90</td>\n",
       "      <td>RL</td>\n",
       "      <td>63.0</td>\n",
       "      <td>7711</td>\n",
       "      <td>Pave</td>\n",
       "      <td>NaN</td>\n",
       "      <td>IR1</td>\n",
       "      <td>Lvl</td>\n",
       "      <td>AllPub</td>\n",
       "      <td>...</td>\n",
       "      <td>0</td>\n",
       "      <td>NaN</td>\n",
       "      <td>NaN</td>\n",
       "      <td>NaN</td>\n",
       "      <td>0</td>\n",
       "      <td>8</td>\n",
       "      <td>2007</td>\n",
       "      <td>Oth</td>\n",
       "      <td>Abnorml</td>\n",
       "      <td>150000</td>\n",
       "    </tr>\n",
       "    <tr>\n",
       "      <th>2070</th>\n",
       "      <td>944</td>\n",
       "      <td>90</td>\n",
       "      <td>RL</td>\n",
       "      <td>313.0</td>\n",
       "      <td>25000</td>\n",
       "      <td>Pave</td>\n",
       "      <td>NaN</td>\n",
       "      <td>Reg</td>\n",
       "      <td>Low</td>\n",
       "      <td>AllPub</td>\n",
       "      <td>...</td>\n",
       "      <td>0</td>\n",
       "      <td>NaN</td>\n",
       "      <td>NaN</td>\n",
       "      <td>NaN</td>\n",
       "      <td>0</td>\n",
       "      <td>6</td>\n",
       "      <td>2007</td>\n",
       "      <td>WD</td>\n",
       "      <td>Normal</td>\n",
       "      <td>143000</td>\n",
       "    </tr>\n",
       "    <tr>\n",
       "      <th>2071</th>\n",
       "      <td>945</td>\n",
       "      <td>20</td>\n",
       "      <td>RL</td>\n",
       "      <td>52.0</td>\n",
       "      <td>14375</td>\n",
       "      <td>Pave</td>\n",
       "      <td>NaN</td>\n",
       "      <td>IR1</td>\n",
       "      <td>Lvl</td>\n",
       "      <td>NoSeWa</td>\n",
       "      <td>...</td>\n",
       "      <td>0</td>\n",
       "      <td>NaN</td>\n",
       "      <td>NaN</td>\n",
       "      <td>NaN</td>\n",
       "      <td>0</td>\n",
       "      <td>1</td>\n",
       "      <td>2009</td>\n",
       "      <td>COD</td>\n",
       "      <td>Abnorml</td>\n",
       "      <td>137500</td>\n",
       "    </tr>\n",
       "    <tr>\n",
       "      <th>2072</th>\n",
       "      <td>946</td>\n",
       "      <td>50</td>\n",
       "      <td>RM</td>\n",
       "      <td>98.0</td>\n",
       "      <td>8820</td>\n",
       "      <td>Pave</td>\n",
       "      <td>NaN</td>\n",
       "      <td>Reg</td>\n",
       "      <td>Lvl</td>\n",
       "      <td>AllPub</td>\n",
       "      <td>...</td>\n",
       "      <td>0</td>\n",
       "      <td>NaN</td>\n",
       "      <td>MnWw</td>\n",
       "      <td>NaN</td>\n",
       "      <td>0</td>\n",
       "      <td>9</td>\n",
       "      <td>2009</td>\n",
       "      <td>WD</td>\n",
       "      <td>Normal</td>\n",
       "      <td>124900</td>\n",
       "    </tr>\n",
       "  </tbody>\n",
       "</table>\n",
       "<p>2073 rows × 81 columns</p>\n",
       "</div>"
      ],
      "text/plain": [
       "       Id  Dwell_Type Zone_Class  LotFrontage  LotArea Road_Type Alley  \\\n",
       "0       1          60         RL         65.0     8450      Pave   NaN   \n",
       "1       2          20         RL         80.0     9600      Pave   NaN   \n",
       "2       3          60         RL         68.0    11250      Pave   NaN   \n",
       "3       4          70         RL         60.0     9550      Pave   NaN   \n",
       "4       5          60         RL         84.0    14260      Pave   NaN   \n",
       "...   ...         ...        ...          ...      ...       ...   ...   \n",
       "2068  942          60         RL          NaN     8755      Pave   NaN   \n",
       "2069  943          90         RL         63.0     7711      Pave   NaN   \n",
       "2070  944          90         RL        313.0    25000      Pave   NaN   \n",
       "2071  945          20         RL         52.0    14375      Pave   NaN   \n",
       "2072  946          50         RM         98.0     8820      Pave   NaN   \n",
       "\n",
       "     Property_Shape LandContour Utilities  ... PoolArea PoolQC  Fence  \\\n",
       "0               Reg         Lvl    AllPub  ...        0    NaN    NaN   \n",
       "1               Reg         Lvl    AllPub  ...        0    NaN    NaN   \n",
       "2               IR1         Lvl    AllPub  ...        0    NaN    NaN   \n",
       "3               IR1         Lvl    AllPub  ...        0    NaN    NaN   \n",
       "4               IR1         Lvl    AllPub  ...        0    NaN    NaN   \n",
       "...             ...         ...       ...  ...      ...    ...    ...   \n",
       "2068            IR1         Lvl    AllPub  ...        0    NaN  GdPrv   \n",
       "2069            IR1         Lvl    AllPub  ...        0    NaN    NaN   \n",
       "2070            Reg         Low    AllPub  ...        0    NaN    NaN   \n",
       "2071            IR1         Lvl    NoSeWa  ...        0    NaN    NaN   \n",
       "2072            Reg         Lvl    AllPub  ...        0    NaN   MnWw   \n",
       "\n",
       "     MiscFeature MiscVal MoSold YrSold  SaleType  SaleCondition  \\\n",
       "0            NaN       0      2   2008        WD         Normal   \n",
       "1            NaN       0      5   2007        WD         Normal   \n",
       "2            NaN       0      9   2008        WD         Normal   \n",
       "3            NaN       0      2   2006        WD        Abnorml   \n",
       "4            NaN       0     12   2008        WD         Normal   \n",
       "...          ...     ...    ...    ...       ...            ...   \n",
       "2068         NaN       0      6   2009        WD         Normal   \n",
       "2069         NaN       0      8   2007       Oth        Abnorml   \n",
       "2070         NaN       0      6   2007        WD         Normal   \n",
       "2071         NaN       0      1   2009       COD        Abnorml   \n",
       "2072         NaN       0      9   2009        WD         Normal   \n",
       "\n",
       "      Property_Sale_Price  \n",
       "0                  208500  \n",
       "1                  181500  \n",
       "2                  223500  \n",
       "3                  140000  \n",
       "4                  250000  \n",
       "...                   ...  \n",
       "2068               214000  \n",
       "2069               150000  \n",
       "2070               143000  \n",
       "2071               137500  \n",
       "2072               124900  \n",
       "\n",
       "[2073 rows x 81 columns]"
      ]
     },
     "execution_count": 4,
     "metadata": {},
     "output_type": "execute_result"
    }
   ],
   "source": [
    "X"
   ]
  },
  {
   "cell_type": "code",
   "execution_count": 5,
   "metadata": {},
   "outputs": [
    {
     "data": {
      "text/plain": [
       "Id                       0\n",
       "Dwell_Type               0\n",
       "Zone_Class               0\n",
       "LotFrontage            320\n",
       "LotArea                  0\n",
       "                      ... \n",
       "MoSold                   0\n",
       "YrSold                   0\n",
       "SaleType                 0\n",
       "SaleCondition            0\n",
       "Property_Sale_Price      0\n",
       "Length: 81, dtype: int64"
      ]
     },
     "execution_count": 5,
     "metadata": {},
     "output_type": "execute_result"
    }
   ],
   "source": [
    "X.isnull().sum()"
   ]
  },
  {
   "cell_type": "code",
   "execution_count": 6,
   "metadata": {},
   "outputs": [],
   "source": [
    "columns=X.columns[X.isnull().any()]"
   ]
  },
  {
   "cell_type": "code",
   "execution_count": 7,
   "metadata": {},
   "outputs": [
    {
     "data": {
      "text/plain": [
       "LotFrontage      320\n",
       "Alley           1944\n",
       "MasVnrType        14\n",
       "MasVnrArea        14\n",
       "BsmtQual          59\n",
       "BsmtCond          59\n",
       "BsmtExposure      61\n",
       "BsmtFinType1      59\n",
       "BsmtFinType2      60\n",
       "Electrical         1\n",
       "FireplaceQu      988\n",
       "GarageType       113\n",
       "GarageYrBlt      113\n",
       "GarageFinish     113\n",
       "GarageQual       113\n",
       "GarageCond       113\n",
       "PoolQC          2065\n",
       "Fence           1669\n",
       "MiscFeature     1993\n",
       "dtype: int64"
      ]
     },
     "execution_count": 7,
     "metadata": {},
     "output_type": "execute_result"
    }
   ],
   "source": [
    "X[columns].isnull().sum()"
   ]
  },
  {
   "cell_type": "code",
   "execution_count": 8,
   "metadata": {
    "scrolled": true
   },
   "outputs": [
    {
     "name": "stdout",
     "output_type": "stream",
     "text": [
      "<class 'pandas.core.frame.DataFrame'>\n",
      "RangeIndex: 2073 entries, 0 to 2072\n",
      "Data columns (total 81 columns):\n",
      " #   Column               Non-Null Count  Dtype  \n",
      "---  ------               --------------  -----  \n",
      " 0   Id                   2073 non-null   int64  \n",
      " 1   Dwell_Type           2073 non-null   int64  \n",
      " 2   Zone_Class           2073 non-null   object \n",
      " 3   LotFrontage          1753 non-null   float64\n",
      " 4   LotArea              2073 non-null   int64  \n",
      " 5   Road_Type            2073 non-null   object \n",
      " 6   Alley                129 non-null    object \n",
      " 7   Property_Shape       2073 non-null   object \n",
      " 8   LandContour          2073 non-null   object \n",
      " 9   Utilities            2073 non-null   object \n",
      " 10  LotConfig            2073 non-null   object \n",
      " 11  LandSlope            2073 non-null   object \n",
      " 12  Neighborhood         2073 non-null   object \n",
      " 13  Condition1           2073 non-null   object \n",
      " 14  Condition2           2073 non-null   object \n",
      " 15  Dwelling_Type        2073 non-null   object \n",
      " 16  HouseStyle           2073 non-null   object \n",
      " 17  OverallQual          2073 non-null   int64  \n",
      " 18  OverallCond          2073 non-null   int64  \n",
      " 19  YearBuilt            2073 non-null   int64  \n",
      " 20  YearRemodAdd         2073 non-null   int64  \n",
      " 21  RoofStyle            2073 non-null   object \n",
      " 22  RoofMatl             2073 non-null   object \n",
      " 23  Exterior1st          2073 non-null   object \n",
      " 24  Exterior2nd          2073 non-null   object \n",
      " 25  MasVnrType           2059 non-null   object \n",
      " 26  MasVnrArea           2059 non-null   float64\n",
      " 27  ExterQual            2073 non-null   object \n",
      " 28  ExterCond            2073 non-null   object \n",
      " 29  Foundation           2073 non-null   object \n",
      " 30  BsmtQual             2014 non-null   object \n",
      " 31  BsmtCond             2014 non-null   object \n",
      " 32  BsmtExposure         2012 non-null   object \n",
      " 33  BsmtFinType1         2014 non-null   object \n",
      " 34  BsmtFinSF1           2073 non-null   int64  \n",
      " 35  BsmtFinType2         2013 non-null   object \n",
      " 36  BsmtFinSF2           2073 non-null   int64  \n",
      " 37  BsmtUnfSF            2073 non-null   int64  \n",
      " 38  TotalBsmtSF          2073 non-null   int64  \n",
      " 39  Heating              2073 non-null   object \n",
      " 40  HeatingQC            2073 non-null   object \n",
      " 41  CentralAir           2073 non-null   object \n",
      " 42  Electrical           2072 non-null   object \n",
      " 43  1stFlrSF             2073 non-null   int64  \n",
      " 44  2ndFlrSF             2073 non-null   int64  \n",
      " 45  LowQualFinSF         2073 non-null   int64  \n",
      " 46  GrLivArea            2073 non-null   int64  \n",
      " 47  BsmtFullBath         2073 non-null   int64  \n",
      " 48  BsmtHalfBath         2073 non-null   int64  \n",
      " 49  FullBath             2073 non-null   int64  \n",
      " 50  HalfBath             2073 non-null   int64  \n",
      " 51  BedroomAbvGr         2073 non-null   int64  \n",
      " 52  KitchenAbvGr         2073 non-null   int64  \n",
      " 53  KitchenQual          2073 non-null   object \n",
      " 54  TotRmsAbvGrd         2073 non-null   int64  \n",
      " 55  Functional           2073 non-null   object \n",
      " 56  Fireplaces           2073 non-null   int64  \n",
      " 57  FireplaceQu          1085 non-null   object \n",
      " 58  GarageType           1960 non-null   object \n",
      " 59  GarageYrBlt          1960 non-null   float64\n",
      " 60  GarageFinish         1960 non-null   object \n",
      " 61  GarageCars           2073 non-null   int64  \n",
      " 62  GarageArea           2073 non-null   int64  \n",
      " 63  GarageQual           1960 non-null   object \n",
      " 64  GarageCond           1960 non-null   object \n",
      " 65  PavedDrive           2073 non-null   object \n",
      " 66  WoodDeckSF           2073 non-null   int64  \n",
      " 67  OpenPorchSF          2073 non-null   int64  \n",
      " 68  EnclosedPorch        2073 non-null   int64  \n",
      " 69  3SsnPorch            2073 non-null   int64  \n",
      " 70  ScreenPorch          2073 non-null   int64  \n",
      " 71  PoolArea             2073 non-null   int64  \n",
      " 72  PoolQC               8 non-null      object \n",
      " 73  Fence                404 non-null    object \n",
      " 74  MiscFeature          80 non-null     object \n",
      " 75  MiscVal              2073 non-null   int64  \n",
      " 76  MoSold               2073 non-null   int64  \n",
      " 77  YrSold               2073 non-null   int64  \n",
      " 78  SaleType             2073 non-null   object \n",
      " 79  SaleCondition        2073 non-null   object \n",
      " 80  Property_Sale_Price  2073 non-null   int64  \n",
      "dtypes: float64(3), int64(35), object(43)\n",
      "memory usage: 1.3+ MB\n"
     ]
    }
   ],
   "source": [
    "X.info()"
   ]
  },
  {
   "cell_type": "code",
   "execution_count": 9,
   "metadata": {},
   "outputs": [],
   "source": [
    "X['MasVnrArea'].fillna((X['MasVnrArea'].mean()), inplace=True)"
   ]
  },
  {
   "cell_type": "code",
   "execution_count": 10,
   "metadata": {},
   "outputs": [],
   "source": [
    "X['LotFrontage'].fillna((X['LotFrontage'].mean()), inplace=True)"
   ]
  },
  {
   "cell_type": "code",
   "execution_count": 11,
   "metadata": {},
   "outputs": [],
   "source": [
    "X['GarageYrBlt'].fillna((X['GarageYrBlt'].mean()), inplace=True)"
   ]
  },
  {
   "cell_type": "code",
   "execution_count": 12,
   "metadata": {},
   "outputs": [
    {
     "data": {
      "text/plain": [
       "LotFrontage        0\n",
       "Alley           1944\n",
       "MasVnrType        14\n",
       "MasVnrArea         0\n",
       "BsmtQual          59\n",
       "BsmtCond          59\n",
       "BsmtExposure      61\n",
       "BsmtFinType1      59\n",
       "BsmtFinType2      60\n",
       "Electrical         1\n",
       "FireplaceQu      988\n",
       "GarageType       113\n",
       "GarageYrBlt        0\n",
       "GarageFinish     113\n",
       "GarageQual       113\n",
       "GarageCond       113\n",
       "PoolQC          2065\n",
       "Fence           1669\n",
       "MiscFeature     1993\n",
       "dtype: int64"
      ]
     },
     "execution_count": 12,
     "metadata": {},
     "output_type": "execute_result"
    }
   ],
   "source": [
    "X[columns].isnull().sum()"
   ]
  },
  {
   "cell_type": "code",
   "execution_count": 13,
   "metadata": {},
   "outputs": [],
   "source": [
    "x = X[['BsmtFinSF1','BsmtFinSF2','BsmtUnfSF','TotalBsmtSF','2ndFlrSF','LowQualFinSF','GrLivArea','BsmtFullBath','BsmtHalfBath','FullBath','HalfBath','BedroomAbvGr','KitchenAbvGr','TotRmsAbvGrd','Fireplaces','GarageYrBlt','GarageCars','MasVnrArea','GarageArea','WoodDeckSF','OpenPorchSF','EnclosedPorch','3SsnPorch','ScreenPorch','PoolArea','LotArea']]\n",
    "y = X['Property_Sale_Price']"
   ]
  },
  {
   "cell_type": "code",
   "execution_count": 14,
   "metadata": {},
   "outputs": [
    {
     "name": "stdout",
     "output_type": "stream",
     "text": [
      "      BsmtFinSF1  BsmtFinSF2  BsmtUnfSF  TotalBsmtSF  2ndFlrSF  LowQualFinSF  \\\n",
      "0            706           0        150          856       854             0   \n",
      "1            978           0        284         1262         0             0   \n",
      "2            486           0        434          920       866             0   \n",
      "3            216           0        540          756       756             0   \n",
      "4            655           0        490         1145      1053             0   \n",
      "...          ...         ...        ...          ...       ...           ...   \n",
      "2068         772           0        220          992      1038             0   \n",
      "2069        1440           0          0         1440         0             0   \n",
      "2070           0           0       1632         1632         0             0   \n",
      "2071         111         354        354          819         0             0   \n",
      "2072        1088           0          0         1088       561           120   \n",
      "\n",
      "      GrLivArea  BsmtFullBath  BsmtHalfBath  FullBath  ...  GarageCars  \\\n",
      "0          1710             1             0         2  ...           2   \n",
      "1          1262             0             1         2  ...           2   \n",
      "2          1786             1             0         2  ...           2   \n",
      "3          1717             1             0         1  ...           3   \n",
      "4          2198             1             0         2  ...           3   \n",
      "...         ...           ...           ...       ...  ...         ...   \n",
      "2068       2060             1             0         2  ...           2   \n",
      "2069       1440             2             0         2  ...           0   \n",
      "2070       1632             0             0         2  ...           2   \n",
      "2071       1344             0             1         1  ...           2   \n",
      "2072       1869             0             0         1  ...           2   \n",
      "\n",
      "      MasVnrArea  GarageArea  WoodDeckSF  OpenPorchSF  EnclosedPorch  \\\n",
      "0          196.0         548           0           61              0   \n",
      "1            0.0         460         298            0              0   \n",
      "2          162.0         608           0           42              0   \n",
      "3            0.0         642           0           35            272   \n",
      "4          350.0         836         192           84              0   \n",
      "...          ...         ...         ...          ...            ...   \n",
      "2068       298.0         390           0            0              0   \n",
      "2069         0.0           0         321            0              0   \n",
      "2070         0.0         576           0            0              0   \n",
      "2071       541.0         525           0          118              0   \n",
      "2072         0.0         456          48            0            244   \n",
      "\n",
      "      3SsnPorch  ScreenPorch  PoolArea  LotArea  \n",
      "0             0            0         0     8450  \n",
      "1             0            0         0     9600  \n",
      "2             0            0         0    11250  \n",
      "3             0            0         0     9550  \n",
      "4             0            0         0    14260  \n",
      "...         ...          ...       ...      ...  \n",
      "2068        168            0         0     8755  \n",
      "2069          0            0         0     7711  \n",
      "2070          0            0         0    25000  \n",
      "2071          0          233         0    14375  \n",
      "2072          0            0         0     8820  \n",
      "\n",
      "[2073 rows x 26 columns] 0       208500\n",
      "1       181500\n",
      "2       223500\n",
      "3       140000\n",
      "4       250000\n",
      "         ...  \n",
      "2068    214000\n",
      "2069    150000\n",
      "2070    143000\n",
      "2071    137500\n",
      "2072    124900\n",
      "Name: Property_Sale_Price, Length: 2073, dtype: int64\n"
     ]
    }
   ],
   "source": [
    "print(x,y)"
   ]
  },
  {
   "cell_type": "code",
   "execution_count": 15,
   "metadata": {},
   "outputs": [],
   "source": [
    "from sklearn.linear_model import LinearRegression"
   ]
  },
  {
   "cell_type": "code",
   "execution_count": 16,
   "metadata": {},
   "outputs": [],
   "source": [
    "model = LinearRegression()"
   ]
  },
  {
   "cell_type": "code",
   "execution_count": 17,
   "metadata": {},
   "outputs": [
    {
     "data": {
      "text/plain": [
       "LinearRegression()"
      ]
     },
     "execution_count": 17,
     "metadata": {},
     "output_type": "execute_result"
    }
   ],
   "source": [
    "model.fit(x,y)"
   ]
  },
  {
   "cell_type": "code",
   "execution_count": 18,
   "metadata": {},
   "outputs": [
    {
     "data": {
      "text/plain": [
       "0.7747749775011854"
      ]
     },
     "execution_count": 18,
     "metadata": {},
     "output_type": "execute_result"
    }
   ],
   "source": [
    "model.score(x,y)"
   ]
  },
  {
   "cell_type": "code",
   "execution_count": 19,
   "metadata": {},
   "outputs": [
    {
     "data": {
      "text/plain": [
       "array([156799.09566957])"
      ]
     },
     "execution_count": 19,
     "metadata": {},
     "output_type": "execute_result"
    }
   ],
   "source": [
    "model.predict([[706,0,150,856,854,0,1710,1,0,2,1,4,2,7,1,1996,2,196.0,548,0,61,0,0,0,0,8450]])"
   ]
  },
  {
   "cell_type": "code",
   "execution_count": 20,
   "metadata": {},
   "outputs": [
    {
     "data": {
      "text/plain": [
       "array([ 1.67425875e+01, -3.84966478e+00,  9.49354576e+00,  2.23864685e+01,\n",
       "       -3.75288863e+00, -7.83091083e+01,  5.40749209e+01,  1.02398011e+04,\n",
       "        2.59384617e+01,  1.40897910e+04,  4.65973919e+03, -1.32007420e+04,\n",
       "       -4.65836723e+04,  7.15027434e+03,  6.12006579e+03,  3.54010559e+02,\n",
       "        1.63158150e+04,  3.86239105e+01,  3.34106225e+00,  3.05715781e+01,\n",
       "        2.10033895e+01,  1.62805184e+00,  2.86378130e+01,  6.24749855e+01,\n",
       "       -2.03156463e+01,  2.32359156e-01])"
      ]
     },
     "execution_count": 20,
     "metadata": {},
     "output_type": "execute_result"
    }
   ],
   "source": [
    "model.coef_"
   ]
  },
  {
   "cell_type": "code",
   "execution_count": 22,
   "metadata": {},
   "outputs": [],
   "source": [
    "from sklearn.model_selection import train_test_split\n",
    "x_train,x_test,y_train,y_test=train_test_split(x,y,test_size=0.25,random_state=0)"
   ]
  },
  {
   "cell_type": "code",
   "execution_count": 23,
   "metadata": {},
   "outputs": [],
   "source": [
    "m = LinearRegression()"
   ]
  },
  {
   "cell_type": "code",
   "execution_count": 24,
   "metadata": {},
   "outputs": [
    {
     "data": {
      "text/plain": [
       "LinearRegression()"
      ]
     },
     "execution_count": 24,
     "metadata": {},
     "output_type": "execute_result"
    }
   ],
   "source": [
    "m.fit(x_train,y_train)"
   ]
  },
  {
   "cell_type": "markdown",
   "metadata": {},
   "source": [
    "# m.fit(x_train,y_train)"
   ]
  },
  {
   "cell_type": "code",
   "execution_count": 25,
   "metadata": {},
   "outputs": [
    {
     "data": {
      "text/plain": [
       "array([ 85596.38378086, 159370.73145413, 252572.63277807, 183929.94922088,\n",
       "       106243.87975678, 155936.54217606,  92914.27755885, 228331.41216033,\n",
       "       234106.08971354, 151112.15940139, 116867.18737731, 248016.89624569,\n",
       "       335432.32538339, 180563.66522489, 239736.52833153, 267292.89756557,\n",
       "       118113.50916143, 194445.19235953, 107150.69277123,  82743.74553832,\n",
       "       228298.15424497, 204381.61127616, 139733.01039571, 190344.63807995,\n",
       "       207305.03553102, 208166.84537689, 216215.53256404,  86152.14264631,\n",
       "       231556.25233211, 155597.01429694, 279756.08769245, 214776.43396562,\n",
       "       134673.00496226, 259931.09762639, 163248.72614928, 117658.22051566,\n",
       "       130187.01128785, 189889.0726615 , 119201.1185561 ,  90020.75287367,\n",
       "       201923.71281315, 148778.358982  , 140058.85220192,  60625.61376944,\n",
       "       204673.29874413, 226827.19845874,  80946.37669832, 142524.2560497 ,\n",
       "       129307.59521657, 198633.60631803,  87944.45953967, 266237.13916621,\n",
       "       319071.45403231, 173276.05181988, 250279.0210118 , 145981.95016127,\n",
       "       266919.86106386, 131361.87758606, 181494.44664585, 134892.17644156,\n",
       "       343652.68697286, 112660.81723781, 164895.44384394, 242360.80958004,\n",
       "       130251.42555946, 101576.12171305, 187147.16987155, 224446.09518168,\n",
       "       194754.84930483, 124100.23830842,  60773.33156582, 165794.39115282,\n",
       "       264152.73871157, 143744.55359761, 252881.24980915, 215595.15142552,\n",
       "       214766.5627928 ,  93026.67530516,  94177.2199749 , 228889.38748591,\n",
       "       204921.09085391, 134233.74594506, 111505.79067568, 345551.54451516,\n",
       "       175684.04776231, 183731.83662504,  71294.7277419 , 200150.71650134,\n",
       "       184453.09180338, 224446.09518168, 274387.61298248, 305244.23997422,\n",
       "        75600.10129443, 275923.1433062 , 197044.09522091, 228055.13999475,\n",
       "       371286.71374145, 202123.6310689 , 235664.09756647,  92474.06706679,\n",
       "       167925.23066552, 189889.08987872, 185239.88425152, 110261.59428039,\n",
       "       134125.09830387, 278760.64910635, 250500.72140671, 210369.34369541,\n",
       "       118366.92735026, 194426.16633129, 236684.73587944,  83425.58910237,\n",
       "       193322.87972452, 143101.55142493, 220871.46113723, 132275.61393546,\n",
       "       152771.13221572, 281697.07681262, 212733.93034973, 194897.62072807,\n",
       "        73265.82506361, 157492.51809202, 189392.22098789, 237728.71173188,\n",
       "       222714.48258098, 218609.73150991, 210031.13195934, 230597.07794988,\n",
       "        86104.31492999, 230280.76350173, 124581.96356062, 288670.49388898,\n",
       "       131108.44241836, 269506.25403245,  71294.7277419 ,  94054.30524114,\n",
       "        67719.26083595, 275923.1433062 , 215184.00303166, 175359.63667824,\n",
       "        99030.99890037, 152468.7819805 , 137398.4211427 , 215495.38621915,\n",
       "       126750.46693044, 241546.09623107, 223691.80602807,  89609.70414792,\n",
       "       117038.50899433, 311512.34325628, 201385.20018522, 121465.36424723,\n",
       "       194301.90332316, 155308.38158242, 233067.34270395, 129431.14718438,\n",
       "       117672.24325838, 241856.9370909 , 249908.68765838,  98666.27467165,\n",
       "        98000.03955169, 129472.30264678, 132735.21160655,  78348.12684516,\n",
       "       216508.85219445, 138114.72877411, 187950.45792763, 337442.16711917,\n",
       "       153318.56375683, 212289.00415247, 136295.75204331, 103852.6646331 ,\n",
       "       220433.22018808, 193347.60668972, 238112.12281727, 198890.32969232,\n",
       "       277201.20478188, 222072.54936322, 190351.11046099, 208784.68345316,\n",
       "       135820.62119292, 229351.11835423, 180304.02342732, 222956.64053109,\n",
       "       129408.00430648, 191337.38650236, 129296.93358601, 151446.12208371,\n",
       "       314290.51793833, 114926.354746  , 203763.94965113, 252478.59122958,\n",
       "       267460.8471332 , 179813.54365751, 229547.39013182, 234700.10819693,\n",
       "       145120.12369734, 186275.73168308, 216052.43381357, 194965.41510169,\n",
       "       205253.8849025 , 159485.79012842, 186870.76104115, 176649.97138903,\n",
       "       216964.34587735, 248630.95095486, 133906.62863832,  78006.66467105,\n",
       "       200631.99790785, 174071.3430712 , 248858.19210602, 123664.99829841,\n",
       "       268339.49613692, 117713.41509087, 111971.62913035, 254762.17592998,\n",
       "       153273.48007687, 195814.03860353, 132410.85438638, 223806.19956364,\n",
       "       246984.05656814, 159555.02420294, 231167.36992725, 222550.46851266,\n",
       "       216245.39610569, 241484.88231408, 183254.39685499, 240984.56575542,\n",
       "       128016.27118921, 127166.38117917, 182645.50661343, 142631.39468679,\n",
       "       210332.13624149, 112737.17444718, 140849.67050212, 193464.91104782,\n",
       "       133703.88197717, 151983.02391692, 131237.11181399,  73338.17322684,\n",
       "       301224.20562633, 229083.90168031,  80946.37669832, 254564.99662816,\n",
       "       155308.38158242, 263570.79071631, 160473.29355745, 112024.8075254 ,\n",
       "       151811.88398654, 194526.21432253, 365466.6968707 , 366059.83097958,\n",
       "       210713.98693014, 154659.85336364, 216672.41513218, 156893.97169379,\n",
       "       126480.59352475, 116867.18737731, 269360.67613087, 158033.57554241,\n",
       "       198384.77969928, 103155.14322333, 303293.55320233, 269014.7843565 ,\n",
       "       184492.58319836, 215811.67883   , 270512.07898517,  79249.02554898,\n",
       "       402889.3166447 , 138322.16127822, 202605.3685965 , 153416.02789321,\n",
       "       166025.69809821,  89609.70414792,  48541.33114424, 132413.47753161,\n",
       "       148623.99804098, 158704.7713651 , 110963.20360695, 211538.6951738 ,\n",
       "       148187.52935806, 207082.22787962, 141051.68557236, 266920.7096327 ,\n",
       "       268398.33726528,  90575.04222885, 199890.26348784,  79454.8498042 ,\n",
       "       176376.94232229, 118404.12460346, 191542.60986254, 262929.98871117,\n",
       "       264152.73871157, 249059.0665569 ,  85056.74652678, 182150.54101501,\n",
       "       194195.65741132, 104146.44623266, 127154.66201303, 104370.47914914,\n",
       "       209042.97297157, 299741.67005949, 142241.7787622 , 262567.30381332,\n",
       "       201182.28401672, 149588.58320628, 149504.03931312, 112638.7163949 ,\n",
       "        64701.74168216, 279814.45404026, 234911.44283325, 207550.54290697,\n",
       "       248025.81728584, 120026.47267673, 117347.59033769,  74361.43311562,\n",
       "       227544.17690903, 127692.85565801, 243311.78347824, 132164.87781965,\n",
       "       202759.23954613, 197764.6712206 ,  91839.06924696, 175878.4751124 ,\n",
       "       211556.55520638,  43064.40715872, 143483.22569967, 158442.36704748,\n",
       "        80618.28121478, 119939.88615783, 234408.32289146, 203940.62089789,\n",
       "       104371.33335626, 282855.92186556, 169145.6739324 , 191151.12855646,\n",
       "       219430.03472374, 150493.69315903, 344786.77240702, 138784.24214534,\n",
       "       274387.61298248, 285813.84604762, 183002.89297084, 116456.95600718,\n",
       "        97973.69246402, 107178.92491985, 188193.66946419, 110840.16596626,\n",
       "       172899.09226095,  81244.97863745, 162794.6746153 , 158331.86900072,\n",
       "        42563.33215196, 120946.82317143, 157624.92479979, 108900.60003531,\n",
       "       190676.54550353, 102255.59091772, 129435.82288149, 193315.2515081 ,\n",
       "       187700.33908022, 196226.73609145, 209329.78928136, 165643.22455608,\n",
       "       181494.44664585, 206188.16866847,  97922.71955025, 246931.55016932,\n",
       "       221553.53659044, 236576.53285072, 214736.11080671, 242054.82388247,\n",
       "       225523.45121087, 171855.00234975, 140988.83718806, 121946.65960652,\n",
       "       113407.26225825, 117403.13558106,  79856.1664334 ,  70596.4174224 ,\n",
       "       159539.47095798, 213506.81563311, 193864.06557827,  75533.82666933,\n",
       "       331002.69818568, 210713.98693014, 240935.50169994, 284347.41454109,\n",
       "       121163.88416222, 221408.35093452, 232869.39843547, 225355.63368049,\n",
       "       330525.55366169, 219739.28985006, 115619.12465973, 320077.50664982,\n",
       "        86586.07892927, 109579.76423028, 190158.04398225,  41853.34750855,\n",
       "       189392.22098789, 170283.90789983, 163110.85740214, 194644.38961868,\n",
       "       285127.86348308, 185205.15859096, 196997.52137238, 122206.62262296,\n",
       "       168611.77892626, 259102.93553977,  92457.95923155, 433618.58994237,\n",
       "       139514.73702628, 260163.88421783, 194445.19235953, 196146.60129791,\n",
       "       382322.1033532 , 155119.50081468, 247306.67898979, 284572.43536045,\n",
       "       197099.74422942, 280225.87127468,  99771.85052475,  62831.45121003,\n",
       "       233781.55973168,  71538.2590578 , 120003.52892379, 204814.86181404,\n",
       "       148147.26517776, 393313.64149506,  90421.16310139, 174956.8822968 ,\n",
       "       196935.64949036, 182982.97660102, 317383.16452418, 249332.80197726,\n",
       "       210808.63543209, 147458.36576225, 167590.90200106, 151607.00975132,\n",
       "       194914.64542774, 401071.23897814, 148431.95976682, 193724.19608373,\n",
       "       132055.9633781 , 162477.9971554 , 119936.10603847, 332743.44429939,\n",
       "        92165.39343593, 127064.25826609, 184386.5726726 ,  78077.64782826,\n",
       "       170469.90363718, 276728.06178051, 136505.55616684, 198801.31774701,\n",
       "       185283.73028683, 211189.96936197, 184644.23115521, 158800.53111994,\n",
       "       110747.69429127, 263479.57475976, 132031.82226756,  92169.55643482,\n",
       "       207808.94096299,  86500.59892184, 246466.54508206, 131411.92067776,\n",
       "       188910.57210204, 195037.22810483, 210738.4250772 , 267990.65127768,\n",
       "       156003.03899866, 293411.35193714, 266451.8157398 , 153368.84186614,\n",
       "       138702.03262193, 134877.3313606 , 168249.91585024, 143371.62095034,\n",
       "       249001.20600743, 114897.88513235, 243059.29246606, 128217.06457752,\n",
       "        42122.32754074, 304609.58623683, 260181.70998562, 110085.73338481,\n",
       "       130959.83542887, 228978.4926675 , 104639.31951881, 188713.19220456,\n",
       "       234413.61000515, 198406.75286931, 111208.87988   , 221287.37101667,\n",
       "       153113.99569949, 102521.18745371, 110629.56332079, 173276.05181988,\n",
       "       152482.59824367, 215389.38436648, 144252.9035605 , 181296.95461295,\n",
       "       163476.97082464, 246039.12478629, 306549.46181191,  98213.13994028,\n",
       "       116585.61146989, 319467.36367664, 211174.66809176, 209831.96004983,\n",
       "       123686.98794431, 256839.46388775, 196685.65094102, 124171.1698528 ,\n",
       "       218171.94328919, 139367.42716701, 174071.3430712 ])"
      ]
     },
     "execution_count": 25,
     "metadata": {},
     "output_type": "execute_result"
    }
   ],
   "source": [
    "pred = m.predict(x_test)\n",
    "pred"
   ]
  },
  {
   "cell_type": "code",
   "execution_count": 26,
   "metadata": {},
   "outputs": [],
   "source": [
    "import numpy as np"
   ]
  },
  {
   "cell_type": "code",
   "execution_count": 27,
   "metadata": {},
   "outputs": [],
   "source": [
    "from sklearn import metrics"
   ]
  },
  {
   "cell_type": "code",
   "execution_count": 28,
   "metadata": {},
   "outputs": [
    {
     "name": "stdout",
     "output_type": "stream",
     "text": [
      "0.7854879275160607\n"
     ]
    }
   ],
   "source": [
    "test_set_r2=metrics.r2_score(y_test,pred)\n",
    "print(test_set_r2)"
   ]
  },
  {
   "cell_type": "code",
   "execution_count": 29,
   "metadata": {},
   "outputs": [
    {
     "data": {
      "text/plain": [
       "array([155699.79614132])"
      ]
     },
     "execution_count": 29,
     "metadata": {},
     "output_type": "execute_result"
    }
   ],
   "source": [
    "m.predict([[706,0,150,856,854,0,1710,1,0,2,1,4,2,7,1,1996,2,196.0,548,0,61,0,0,0,0,8450]])"
   ]
  },
  {
   "cell_type": "code",
   "execution_count": null,
   "metadata": {},
   "outputs": [],
   "source": []
  }
 ],
 "metadata": {
  "kernelspec": {
   "display_name": "Python 3",
   "language": "python",
   "name": "python3"
  },
  "language_info": {
   "codemirror_mode": {
    "name": "ipython",
    "version": 3
   },
   "file_extension": ".py",
   "mimetype": "text/x-python",
   "name": "python",
   "nbconvert_exporter": "python",
   "pygments_lexer": "ipython3",
   "version": "3.8.5"
  }
 },
 "nbformat": 4,
 "nbformat_minor": 4
}
